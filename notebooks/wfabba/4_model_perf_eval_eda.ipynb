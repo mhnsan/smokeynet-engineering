{
 "cells": [
  {
   "cell_type": "markdown",
   "metadata": {},
   "source": [
    "#### This notebook contains experiments using different statistical models using combinations of smokeynet predictions, goes16 and goes17 predictions"
   ]
  },
  {
   "cell_type": "code",
   "execution_count": 23,
   "metadata": {},
   "outputs": [],
   "source": [
    "import pandas as pd\n",
    "import urllib.request\n",
    "import datetime as dt\n",
    "import requests\n",
    "from bs4 import BeautifulSoup\n",
    "from datetime import datetime, timedelta\n",
    "from haversine import haversine, Unit\n",
    "from shapely.geometry import Point\n",
    "import geopandas as gpd\n",
    "from geopandas import GeoDataFrame\n",
    "import pytz\n",
    "from sklearn.metrics import accuracy_score, precision_recall_fscore_support, precision_score\n",
    "import os\n",
    "import glob\n",
    "import matplotlib.pyplot as plt\n",
    "import lightgbm as lgb\n",
    "p = print"
   ]
  },
  {
   "cell_type": "markdown",
   "metadata": {},
   "source": [
    "## Compute Basic Baseline Statistics"
   ]
  },
  {
   "cell_type": "code",
   "execution_count": 10,
   "metadata": {},
   "outputs": [
    {
     "name": "stdout",
     "output_type": "stream",
     "text": [
      "Baseline score SmokeyNet: 0.8220704529115744\n",
      "Baseline score GOES-16: 0.6187994248741913\n",
      "Baseline score GOES-17: 0.6063982746225737\n",
      "Hard Vote Ensemble score: 0.6527677929547089\n"
     ]
    }
   ],
   "source": [
    "# processed_data_dir = \"../../data/processed/wfabba\"\n",
    "# processed_data_dir = \"../../data/processed/wfabba_sliding/\"\n",
    "# processed_data_dir = \"../../data/processed/wfabba_sliding_window_nearest_20min/\"\n",
    "# processed_data_dir = \"../../data/processed/wfabba_sliding_window_new_data/\"\n",
    "processed_data_dir = \"../../data/processed/wfabba_sliding_window_new_split/\"\n",
    "# processed_data_dir = \"../../data/processed/wfabba_sliding_window_nearest_without_code_15/\"\n",
    "csv_suffix = \"_all_hard_voting_35_window_20.csv\"\n",
    "# csv_suffix = \"_all_hard_voting_35.csv\"\n",
    "\n",
    "csv_files = glob.glob(os.path.join(processed_data_dir, f\"*{csv_suffix}\"))\n",
    "  \n",
    "master_df = pd.DataFrame()\n",
    "    \n",
    "# loop over the list of csv files\n",
    "for f in csv_files:\n",
    "    df = pd.read_csv(f)\n",
    "    df[\"file\"] = f\n",
    "    master_df = pd.concat([master_df, df])\n",
    "    \n",
    "master_df = master_df.reset_index()\n",
    "master_df = master_df.drop(columns=[\"index\", \"Unnamed: 0\"])\n",
    "# master_df\n",
    "master_df = master_df.rename(columns={\"image_pred\":\"smokeynet_pred\", \"final_pred\":\"majority_vote_pred\"})\n",
    "# master_df\n",
    "# get only the test data\n",
    "master_copy_df = master_df[master_df[\"type\"] == \"test\"].copy()\n",
    "valid_copy_df = master_df[master_df[\"type\"] == \"valid\"].copy()\n",
    "\n",
    "# if either one of the 2 has code 15, let it remain in the df\n",
    "condition = ((~master_copy_df[\"image_gt\"].isna()) \n",
    "            # & (master_copy_df[\"WFABBA_GOES16_Code\"] != 15) \n",
    "            # & (master_copy_df[\"WFABBA_GOES17_Code\"] != 15)\n",
    ")\n",
    "valid_condition = ((~valid_copy_df[\"image_gt\"].isna()) \n",
    "            # & (master_copy_df[\"WFABBA_GOES16_Code\"] != 15) \n",
    "            # & (master_copy_df[\"WFABBA_GOES17_Code\"] != 15)\n",
    ")\n",
    "\n",
    "# Calculate the baseline accuracies of the individual models and the hard vote ensemble\n",
    "image_labels = master_copy_df[condition][\"image_gt\"]\n",
    "smokeynet_preds = master_copy_df[condition][\"smokeynet_pred\"]\n",
    "goes16_preds = master_copy_df[condition][\"goes16_pred\"]\n",
    "goes17_preds = master_copy_df[condition][\"goes17_pred\"]\n",
    "hard_vote_ensemble_preds = master_copy_df[condition][\"majority_vote_pred\"]\n",
    "\n",
    "# Computing on Validation Set\n",
    "# image_labels = valid_copy_df[valid_condition][\"image_gt\"]\n",
    "# smokeynet_preds = valid_copy_df[valid_condition][\"smokeynet_pred\"]\n",
    "# goes16_preds = valid_copy_df[valid_condition][\"goes16_pred\"]\n",
    "# goes17_preds = valid_copy_df[valid_condition][\"goes17_pred\"]\n",
    "# hard_vote_ensemble_preds = valid_copy_df[valid_condition][\"majority_vote_pred\"]\n",
    "\n",
    "smokeynet_baseline_score = accuracy_score(image_labels, smokeynet_preds)\n",
    "goes16_baseline_score = accuracy_score(image_labels, goes16_preds)\n",
    "goes17_baseline_score = accuracy_score(image_labels, goes17_preds)\n",
    "hard_vote_ensemble_score = accuracy_score(image_labels, hard_vote_ensemble_preds)\n",
    "\n",
    "print(\"Baseline score SmokeyNet:\", smokeynet_baseline_score)\n",
    "print(\"Baseline score GOES-16:\", goes16_baseline_score)\n",
    "print(\"Baseline score GOES-17:\", goes17_baseline_score)\n",
    "print(\"Hard Vote Ensemble score:\", hard_vote_ensemble_score)"
   ]
  },
  {
   "cell_type": "markdown",
   "metadata": {},
   "source": [
    "## Plot Confusion Matrices"
   ]
  },
  {
   "cell_type": "code",
   "execution_count": 12,
   "metadata": {},
   "outputs": [
    {
     "data": {
      "text/plain": [
       "Text(0.5, 1.0, 'GOES 17')"
      ]
     },
     "execution_count": 12,
     "metadata": {},
     "output_type": "execute_result"
    },
    {
     "data": {
      "image/png": "[encoded data removed]",
      "text/plain": [
       "<Figure size 1080x288 with 6 Axes>"
      ]
     },
     "metadata": {
      "needs_background": "light"
     },
     "output_type": "display_data"
    },
    {
     "data": {
      "text/plain": [
       "<Figure size 720x2880 with 0 Axes>"
      ]
     },
     "metadata": {},
     "output_type": "display_data"
    }
   ],
   "source": [
    "# p (\"Code counts\", master_df[\"WFABBA_GOES16_Code\"].count(), master_df[\"WFABBA_GOES17_Code\"].count(), master_df.shape[0], \"\\n\\n\")\n",
    "# p (\"GOES16 pred vs GT counts\\n\", master_df[\"goes16_pred\"].value_counts(), \"\\n\", master_df[\"image_gt\"].value_counts(), \"\\n\\n\")\n",
    "# p (\"GOES16 pred vs GT counts\\n\", master_df[\"goes17_pred\"].value_counts(), \"\\n\", master_df[\"image_gt\"].value_counts())\n",
    "\n",
    "from matplotlib import pyplot as plt\n",
    "import seaborn as sn\n",
    "from sklearn.metrics import confusion_matrix\n",
    "\n",
    "# print (help(ConfusionMatrixDisplay))\n",
    "fig, (ax1, ax2, ax3) = plt.subplots(1, 3, figsize=(15, 4))\n",
    "fig.suptitle('Confusion Matrices')\n",
    "plt.figure(figsize=[10,40])\n",
    "\n",
    "sn.heatmap(confusion_matrix(image_labels, smokeynet_preds), annot=True, fmt='g', ax=ax1)\n",
    "sn.heatmap(confusion_matrix(image_labels, goes16_preds), annot=True, fmt='g', ax=ax2)\n",
    "sn.heatmap(confusion_matrix(image_labels, goes17_preds), annot=True, fmt='g', ax=ax3)\n",
    "\n",
    "# labels, title and ticks\n",
    "ax1.set_xlabel('Predicted labels')\n",
    "ax1.set_ylabel('True labels') \n",
    "ax1.set_title('SmokeyNet') \n",
    "ax2.set_xlabel('Predicted labels')\n",
    "ax2.set_ylabel('True labels') \n",
    "ax2.set_title('GOES 16')\n",
    "ax3.set_xlabel('Predicted labels')\n",
    "ax3.set_ylabel('True labels') \n",
    "ax3.set_title('GOES 17')\n",
    "# plt.show()"
   ]
  },
  {
   "cell_type": "code",
   "execution_count": 4,
   "metadata": {},
   "outputs": [
    {
     "data": {
      "image/png": "[encoded data removed]",
      "text/plain": [
       "<Figure size 432x288 with 1 Axes>"
      ]
     },
     "metadata": {
      "needs_background": "light"
     },
     "output_type": "display_data"
    }
   ],
   "source": [
    "import numpy as np\n",
    "column_names = [\"TN\", \"FN\", \"FP\", \"TP\"]\n",
    "numbers = [\n",
    "    np.array(confusion_matrix(image_labels, smokeynet_preds)).ravel(),\n",
    "    np.array(confusion_matrix(image_labels, goes16_preds)).ravel(),\n",
    "    np.array(confusion_matrix(image_labels, goes17_preds)).ravel()\n",
    "]\n",
    "index = np.arange(len(column_names)) + 0.3\n",
    "width = 0.25\n",
    "bar1 = plt.bar(index, numbers[0], width)\n",
    "bar2 = plt.bar(index+width, numbers[1], width)\n",
    "bar3 = plt.bar(index+width*2, numbers[2], width)\n",
    "  \n",
    "plt.xticks(index+width,column_names)\n",
    "plt.legend( (bar1, bar2, bar3), ('Smokey', 'Goes16', 'Goes17') )\n",
    "plt.show()"
   ]
  },
  {
   "cell_type": "markdown",
   "metadata": {},
   "source": [
    "### For the incorrect goes16 predictions, how many are code 15? --> where gt = 0 and goes16 = 1"
   ]
  },
  {
   "cell_type": "code",
   "execution_count": 24,
   "metadata": {},
   "outputs": [
    {
     "name": "stdout",
     "output_type": "stream",
     "text": [
      "Including code 15\n",
      "10.0    295\n",
      "15.0    171\n",
      "12.0     51\n",
      "Name: WFABBA_GOES16_Code, dtype: int64\n",
      "Excluding code 15\n",
      "10.0    295\n",
      "15.0    171\n",
      "12.0     51\n",
      "Name: WFABBA_GOES16_Code, dtype: int64\n"
     ]
    }
   ],
   "source": [
    "p (\"Including code 15\")\n",
    "p (master_copy_df[(~master_copy_df[\"image_gt\"].isna()) \n",
    "        & (master_copy_df.image_gt == 0) \n",
    "        & (master_copy_df.goes16_pred == 1)\n",
    "]['WFABBA_GOES16_Code'].value_counts())\n",
    "\n",
    "p (\"Excluding code 15\")\n",
    "p (master_copy_df[condition \n",
    "        & (master_copy_df.image_gt == 0) \n",
    "        & (master_copy_df.goes16_pred == 1)\n",
    "]['WFABBA_GOES16_Code'].value_counts())\n",
    "\n"
   ]
  },
  {
   "cell_type": "markdown",
   "metadata": {},
   "source": [
    "### For the incorrect goes17 predictions, how many are code 15? --> where gt = 0 and goes17 = 1"
   ]
  },
  {
   "cell_type": "code",
   "execution_count": 34,
   "metadata": {},
   "outputs": [
    {
     "name": "stdout",
     "output_type": "stream",
     "text": [
      "Including code 15\n",
      "15.0    202\n",
      "10.0    113\n",
      "12.0      9\n",
      "Name: WFABBA_GOES17_Code, dtype: int64\n",
      "Excluding code 15\n",
      "10.0    66\n",
      "12.0     9\n",
      "Name: WFABBA_GOES17_Code, dtype: int64\n"
     ]
    }
   ],
   "source": [
    "p (\"Including code 15\")\n",
    "p (master_copy_df[(~master_copy_df[\"image_gt\"].isna()) \n",
    "        & (master_copy_df.image_gt == 0) \n",
    "        & (master_copy_df.goes17_pred == 1)\n",
    "]['WFABBA_GOES17_Code'].value_counts())\n",
    "\n",
    "p (\"Excluding code 15\")\n",
    "p (master_copy_df[condition \n",
    "        & (master_copy_df.image_gt == 0) \n",
    "        & (master_copy_df.goes17_pred == 1)\n",
    "]['WFABBA_GOES17_Code'].value_counts())\n",
    "\n"
   ]
  },
  {
   "cell_type": "markdown",
   "metadata": {},
   "source": [
    "### Goes prediction != gt (FN + FP)"
   ]
  },
  {
   "cell_type": "code",
   "execution_count": 38,
   "metadata": {},
   "outputs": [
    {
     "name": "stdout",
     "output_type": "stream",
     "text": [
      "Including code 15\n",
      "2168\n",
      "Excluding code 15\n",
      "1989\n",
      "Including code 15\n",
      "2162\n",
      "Excluding code 15\n",
      "1891\n"
     ]
    }
   ],
   "source": [
    "p (\"Including code 15\")\n",
    "p (master_copy_df[(~master_copy_df[\"image_gt\"].isna()) \n",
    "        & (master_copy_df.image_gt != master_copy_df.goes16_pred)\n",
    "]['image_gt'].count())\n",
    "\n",
    "p (\"Excluding code 15\")\n",
    "p (master_copy_df[condition \n",
    "        & (master_copy_df.image_gt != master_copy_df.goes16_pred)\n",
    "]['image_gt'].count())\n",
    "\n",
    "p (\"Including code 15\")\n",
    "p (master_copy_df[(~master_copy_df[\"image_gt\"].isna()) \n",
    "        & (master_copy_df.image_gt != master_copy_df.goes17_pred)\n",
    "]['image_gt'].count())\n",
    "\n",
    "p (\"Excluding code 15\")\n",
    "p (master_copy_df[condition \n",
    "        & (master_copy_df.image_gt != master_copy_df.goes17_pred)\n",
    "]['image_gt'].count())"
   ]
  },
  {
   "cell_type": "code",
   "execution_count": 48,
   "metadata": {},
   "outputs": [
    {
     "name": "stdout",
     "output_type": "stream",
     "text": [
      "10.0    84\n",
      "15.0     7\n",
      "12.0     3\n",
      "Name: WFABBA_GOES16_Code, dtype: int64\n",
      "10.0    131\n",
      "15.0     52\n",
      "14.0      3\n",
      "13.0      3\n",
      "Name: WFABBA_GOES17_Code, dtype: int64\n"
     ]
    }
   ],
   "source": [
    "p (master_copy_df[\n",
    "    (master_copy_df.image_gt == master_copy_df.goes16_pred)\n",
    "    & (master_copy_df.image_gt != master_copy_df.smokeynet_pred)\n",
    "]['WFABBA_GOES16_Code'].value_counts())\n",
    "\n",
    "p (master_copy_df[\n",
    "    (master_copy_df.image_gt == master_copy_df.goes17_pred)\n",
    "    & (master_copy_df.image_gt != master_copy_df.smokeynet_pred)\n",
    "]['WFABBA_GOES17_Code'].value_counts())"
   ]
  },
  {
   "cell_type": "code",
   "execution_count": 11,
   "metadata": {},
   "outputs": [],
   "source": [
    "from xgboost import XGBClassifier, XGBRegressor\n",
    "from sklearn.metrics import accuracy_score\n",
    "from sklearn.model_selection import train_test_split, RepeatedStratifiedKFold, RepeatedKFold\n",
    "from sklearn.linear_model import LogisticRegression\n",
    "from sklearn.linear_model import SGDClassifier\n",
    "from sklearn import svm\n",
    "from sklearn.ensemble import AdaBoostClassifier\n",
    "from sklearn.ensemble import GradientBoostingClassifier\n",
    "from sklearn.model_selection import cross_val_score\n",
    "from sklearn.neighbors import KNeighborsClassifier\n",
    "from numpy import mean, std\n",
    "from sklearn.preprocessing import OneHotEncoder\n",
    "import numpy as np"
   ]
  },
  {
   "cell_type": "markdown",
   "metadata": {},
   "source": [
    "### Smokeynet predictions + GOES predictions"
   ]
  },
  {
   "cell_type": "code",
   "execution_count": 31,
   "metadata": {},
   "outputs": [
    {
     "name": "stdout",
     "output_type": "stream",
     "text": [
      ">logistic 0.810 (0.010)\n",
      ">sgd_squared_hinge 0.810 (0.009)\n",
      ">sgd_hinge 0.810 (0.009)\n",
      ">svm 0.810 (0.009)\n",
      ">adaboost 0.810 (0.009)\n",
      ">k_nearest_7 0.748 (0.086)\n",
      ">k_nearest_5 0.745 (0.089)\n",
      ">k_nearest_10 0.748 (0.078)\n",
      ">xgboost 0.810 (0.009)\n"
     ]
    }
   ],
   "source": [
    "\n",
    "x = master_df[['smokeynet_pred', 'goes16_pred', 'goes17_pred']].astype(int)\n",
    "y = master_df['image_gt'].astype(int)\n",
    "\n",
    "models = {\n",
    "    'logistic': LogisticRegression(),\n",
    "    'sgd_squared_hinge': SGDClassifier(loss='squared_hinge', learning_rate='adaptive', eta0=0.0001),\n",
    "    'sgd_hinge': SGDClassifier(loss='hinge'),\n",
    "    'svm': svm.SVC(),\n",
    "    'adaboost': AdaBoostClassifier(learning_rate=0.0001),\n",
    "    'k_nearest_7': KNeighborsClassifier(n_neighbors=7),\n",
    "    'k_nearest_5': KNeighborsClassifier(n_neighbors=5),\n",
    "    'k_nearest_10': KNeighborsClassifier(n_neighbors=10),\n",
    "    'xgboost': XGBClassifier(use_label_encoder=False)\n",
    "}\n",
    "\n",
    "results = {}\n",
    "\n",
    "for name, model in models.items():\n",
    "    cv = RepeatedStratifiedKFold(n_splits=10, n_repeats=5, random_state=1)\n",
    "    # cv = RepeatedKFold(n_splits=10, n_repeats=5, random_state=1)\n",
    "    scores = cross_val_score(model, x, y, scoring='accuracy', cv=cv, n_jobs=-1, error_score='raise')\n",
    "    results[name] = scores\n",
    "    p ('>%s %.3f (%.3f)' % (name, mean(scores), std(scores)))"
   ]
  },
  {
   "cell_type": "markdown",
   "metadata": {},
   "source": [
    "### Smokeynet + GOES data predictions + GOES codes"
   ]
  },
  {
   "cell_type": "code",
   "execution_count": 32,
   "metadata": {},
   "outputs": [
    {
     "name": "stdout",
     "output_type": "stream",
     "text": [
      ">logistic 0.811 (0.010)\n",
      ">sgd_squared_hinge 0.813 (0.010)\n",
      ">sgd_hinge 0.814 (0.009)\n",
      ">svm 0.820 (0.010)\n",
      ">adaboost 0.810 (0.009)\n",
      ">k_nearest_7 0.755 (0.086)\n",
      ">k_nearest_5 0.751 (0.089)\n",
      ">k_nearest_10 0.755 (0.078)\n",
      ">xgboost 0.820 (0.010)\n"
     ]
    }
   ],
   "source": [
    "# x_train, x_test, y_train, y_test = train_test_split(\n",
    "#     master_df[['smokeynet_pred', 'goes16_pred', 'goes17_pred']].astype(int),\n",
    "#     master_df['image_gt'].astype(int),\n",
    "#     test_size=0.2\n",
    "# )\n",
    "x = master_df[['smokeynet_pred', 'goes16_pred', 'goes17_pred', 'WFABBA_GOES16_Code', 'WFABBA_GOES17_Code']]#.astype(int)\n",
    "x = x.fillna(-1).astype(int)\n",
    "x = pd.get_dummies(x, columns=['WFABBA_GOES16_Code', 'WFABBA_GOES17_Code'])\n",
    "# p (x.WFABBA_GOES16_Code_10.value_counts())\n",
    "y = master_df['image_gt'].astype(int)\n",
    "\n",
    "models = {\n",
    "    'logistic': LogisticRegression(),\n",
    "    'sgd_squared_hinge': SGDClassifier(loss='squared_hinge', learning_rate='adaptive', eta0=0.0001),\n",
    "    'sgd_hinge': SGDClassifier(loss='hinge'),\n",
    "    'svm': svm.SVC(),\n",
    "    'adaboost': AdaBoostClassifier(learning_rate=0.0001),\n",
    "    'k_nearest_7': KNeighborsClassifier(n_neighbors=7),\n",
    "    'k_nearest_5': KNeighborsClassifier(n_neighbors=5),\n",
    "    'k_nearest_10': KNeighborsClassifier(n_neighbors=10),\n",
    "    'xgboost': XGBClassifier(use_label_encoder=False)\n",
    "}\n",
    "\n",
    "results = {}\n",
    "\n",
    "for name, model in models.items():\n",
    "    cv = RepeatedStratifiedKFold(n_splits=10, n_repeats=5, random_state=1)\n",
    "    # cv = RepeatedKFold(n_splits=10, n_repeats=5, random_state=1)\n",
    "    scores = cross_val_score(model, x, y, scoring='accuracy', cv=cv, n_jobs=-1, error_score='raise')\n",
    "    results[name] = scores\n",
    "    p ('>%s %.3f (%.3f)' % (name, mean(scores), std(scores)))"
   ]
  },
  {
   "cell_type": "markdown",
   "metadata": {},
   "source": [
    "### Predictions using only the GOES data --> smokeynet considered as a separate model"
   ]
  },
  {
   "cell_type": "code",
   "execution_count": 33,
   "metadata": {},
   "outputs": [
    {
     "name": "stdout",
     "output_type": "stream",
     "text": [
      ">logistic 0.627 (0.010)\n",
      ">sgd_squared_hinge 0.630 (0.011)\n",
      ">sgd_hinge 0.631 (0.011)\n",
      ">svm 0.628 (0.010)\n",
      ">adaboost 0.610 (0.011)\n",
      ">k_nearest_7 0.592 (0.051)\n",
      ">k_nearest_5 0.597 (0.048)\n",
      ">k_nearest_10 0.619 (0.023)\n",
      ">xgboost 0.628 (0.010)\n"
     ]
    }
   ],
   "source": [
    "x = master_df[['goes16_pred', 'goes17_pred', 'WFABBA_GOES16_Code', 'WFABBA_GOES17_Code']]#.astype(int)\n",
    "x = x.fillna(-1).astype(int)\n",
    "x = pd.get_dummies(x, columns=['WFABBA_GOES16_Code', 'WFABBA_GOES17_Code'])\n",
    "# p (x.WFABBA_GOES16_Code_10.value_counts())\n",
    "y = master_df['image_gt'].astype(int)\n",
    "\n",
    "models = {\n",
    "    'logistic': LogisticRegression(),\n",
    "    'sgd_squared_hinge': SGDClassifier(loss='squared_hinge', learning_rate='adaptive', eta0=0.0001),\n",
    "    'sgd_hinge': SGDClassifier(loss='hinge'),\n",
    "    'svm': svm.SVC(),\n",
    "    'adaboost': AdaBoostClassifier(learning_rate=0.0001),\n",
    "    'k_nearest_7': KNeighborsClassifier(n_neighbors=7),\n",
    "    'k_nearest_5': KNeighborsClassifier(n_neighbors=5),\n",
    "    'k_nearest_10': KNeighborsClassifier(n_neighbors=10),\n",
    "    'xgboost': XGBClassifier(use_label_encoder=False)\n",
    "}\n",
    "\n",
    "results = {}\n",
    "\n",
    "for name, model in models.items():\n",
    "    cv = RepeatedStratifiedKFold(n_splits=10, n_repeats=5, random_state=1)\n",
    "    # cv = RepeatedKFold(n_splits=10, n_repeats=5, random_state=1)\n",
    "    scores = cross_val_score(model, x, y, scoring='accuracy', cv=cv, n_jobs=-1, error_score='raise')\n",
    "    results[name] = scores\n",
    "    p ('>%s %.3f (%.3f)' % (name, mean(scores), std(scores)))"
   ]
  },
  {
   "cell_type": "markdown",
   "metadata": {},
   "source": [
    "### Include supplemental GOES data"
   ]
  },
  {
   "cell_type": "code",
   "execution_count": 12,
   "metadata": {},
   "outputs": [],
   "source": [
    "extra_cols = [x for x in master_df.columns if \"WFABBA\" in x and \"timestamp_converted_rounded\" not in x and \"geometry\" not in x]\n",
    "master_df[['smokeynet_pred', 'goes16_pred', 'goes17_pred', 'image_prob'] + extra_cols]\n",
    "# master_df[['smokeynet_pred', 'goes16_pred', 'goes17_pred'] + extra_cols]\n",
    "\n",
    "# p (\"FRP\", master_df.WFABBA_GOES16_FRP.min(), master_df.WFABBA_GOES16_FRP.max(), sum(master_df.WFABBA_GOES16_FRP.isna()))\n",
    "# p (\"Fire Temp\", master_df.WFABBA_GOES16_Fire_Temp.min(), master_df.WFABBA_GOES16_Fire_Temp.max(), sum(master_df.WFABBA_GOES16_Fire_Temp.isna()))\n",
    "# p (\"Pixel Size\", master_df.WFABBA_GOES16_Pixel_Size.min(), master_df.WFABBA_GOES16_Pixel_Size.max(), sum(master_df.WFABBA_GOES16_Pixel_Size.isna()))\n",
    "# p (\"Obs BT4\", master_df.WFABBA_GOES16_Obs_BT4.min(), master_df.WFABBA_GOES16_Obs_BT4.max(), sum(master_df.WFABBA_GOES16_Obs_BT4.isna()))\n",
    "# p (\"Obs BT11\", master_df.WFABBA_GOES16_Obs_BT11.min(), master_df.WFABBA_GOES16_Obs_BT11.max(), sum(master_df.WFABBA_GOES16_Obs_BT11.isna()))\n",
    "# p (\"Bkg BT4\", master_df.WFABBA_GOES16_Bkg_BT4.min(), master_df.WFABBA_GOES16_Bkg_BT4.max(), sum(master_df.WFABBA_GOES16_Bkg_BT4.isna()))\n",
    "# p (\"Bkg BT11\", master_df.WFABBA_GOES16_Bkg_BT11.min(), master_df.WFABBA_GOES16_Bkg_BT11.max(), sum(master_df.WFABBA_GOES16_Bkg_BT11.isna()))\n",
    "\n",
    "master_df.WFABBA_GOES16_FRP = master_df.WFABBA_GOES16_FRP.fillna(master_df.WFABBA_GOES16_FRP.mode()[0]).astype(float)\n",
    "# This is set to -999 if the subpixel fire temperature is less than 400 K at the end of the algorithm.\n",
    "master_df.WFABBA_GOES16_Fire_Temp = master_df.WFABBA_GOES16_Fire_Temp.fillna(-9999.0).astype(float)\n",
    "master_df.WFABBA_GOES16_Pixel_Size = master_df.WFABBA_GOES16_Pixel_Size.fillna(master_df.WFABBA_GOES16_Pixel_Size.mean()).astype(float)\n",
    "master_df.WFABBA_GOES16_Obs_BT4 = master_df.WFABBA_GOES16_Obs_BT4.fillna(master_df.WFABBA_GOES16_Obs_BT4.mean()).astype(float)\n",
    "master_df.WFABBA_GOES16_Obs_BT11 = master_df.WFABBA_GOES16_Obs_BT11.fillna(master_df.WFABBA_GOES16_Obs_BT11.mean()).astype(float)\n",
    "master_df.WFABBA_GOES16_Bkg_BT4 = master_df.WFABBA_GOES16_Bkg_BT4.fillna(master_df.WFABBA_GOES16_Bkg_BT4.mean()).astype(float)\n",
    "master_df.WFABBA_GOES16_Bkg_BT11 = master_df.WFABBA_GOES16_Bkg_BT11.fillna(master_df.WFABBA_GOES16_Bkg_BT11.mean()).astype(float)\n",
    "\n",
    "master_df.WFABBA_GOES17_FRP = master_df.WFABBA_GOES17_FRP.fillna(master_df.WFABBA_GOES17_FRP.mode()[0]).astype(float)\n",
    "# This is set to -999 if the subpixel fire temperature is less than 400 K at the end of the algorithm.\n",
    "master_df.WFABBA_GOES17_Fire_Temp = master_df.WFABBA_GOES17_Fire_Temp.fillna(-9999.0).astype(float)\n",
    "master_df.WFABBA_GOES17_Pixel_Size = master_df.WFABBA_GOES17_Pixel_Size.fillna(master_df.WFABBA_GOES17_Pixel_Size.mean()).astype(float)\n",
    "master_df.WFABBA_GOES17_Obs_BT4 = master_df.WFABBA_GOES17_Obs_BT4.fillna(master_df.WFABBA_GOES17_Obs_BT4.mean()).astype(float)\n",
    "master_df.WFABBA_GOES17_Obs_BT11 = master_df.WFABBA_GOES17_Obs_BT11.fillna(master_df.WFABBA_GOES17_Obs_BT11.mean()).astype(float)\n",
    "master_df.WFABBA_GOES17_Bkg_BT4 = master_df.WFABBA_GOES17_Bkg_BT4.fillna(master_df.WFABBA_GOES17_Bkg_BT4.mean()).astype(float)\n",
    "master_df.WFABBA_GOES17_Bkg_BT11 = master_df.WFABBA_GOES17_Bkg_BT11.fillna(master_df.WFABBA_GOES17_Bkg_BT11.mean()).astype(float)\n",
    "\n",
    "master_df.goes16_pred = master_df.goes16_pred.fillna(-1).astype(int)\n",
    "master_df.goes17_pred = master_df.goes17_pred.fillna(-1).astype(int)"
   ]
  },
  {
   "cell_type": "code",
   "execution_count": 13,
   "metadata": {},
   "outputs": [],
   "source": [
    "from scipy.stats import zscore\n",
    "for col in extra_cols:\n",
    "    master_df[col] = zscore(master_df[col])"
   ]
  },
  {
   "cell_type": "code",
   "execution_count": 60,
   "metadata": {},
   "outputs": [
    {
     "name": "stdout",
     "output_type": "stream",
     "text": [
      ">logistic 0.821 (0.009)\n",
      ">sgd_squared_hinge 0.819 (0.010)\n",
      ">sgd_hinge 0.814 (0.010)\n",
      ">svm 0.839 (0.009)\n",
      ">adaboost 0.814 (0.009)\n",
      ">k_nearest_7 0.798 (0.113)\n",
      ">k_nearest_5 0.797 (0.113)\n",
      ">k_nearest_10 0.799 (0.113)\n",
      ">xgboost 0.842 (0.009)\n"
     ]
    }
   ],
   "source": [
    "extra_cols = [x for x in master_df.columns if \"WFABBA\" in x and \"timestamp_converted_rounded\" not in x and \"geometry\" not in x]\n",
    "x = master_df[['smokeynet_pred', 'goes16_pred', 'goes17_pred'] + extra_cols]#.astype(int)\n",
    "x = pd.get_dummies(x, columns=['WFABBA_GOES16_Code', 'WFABBA_GOES17_Code'])\n",
    "# p (x.WFABBA_GOES16_Code_10.value_counts())\n",
    "y = master_df['image_gt'].astype(int)\n",
    "\n",
    "models = {\n",
    "    'logistic': LogisticRegression(),\n",
    "    'sgd_squared_hinge': SGDClassifier(loss='squared_hinge', learning_rate='adaptive', eta0=0.0001),\n",
    "    'sgd_hinge': SGDClassifier(loss='hinge'),\n",
    "    'svm': svm.SVC(),\n",
    "    'adaboost': AdaBoostClassifier(learning_rate=0.0001),\n",
    "    'k_nearest_7': KNeighborsClassifier(n_neighbors=7),\n",
    "    'k_nearest_5': KNeighborsClassifier(n_neighbors=5),\n",
    "    'k_nearest_10': KNeighborsClassifier(n_neighbors=10),\n",
    "    'xgboost': XGBClassifier(use_label_encoder=False)\n",
    "}\n",
    "\n",
    "results = {}\n",
    "\n",
    "for name, model in models.items():\n",
    "    cv = RepeatedStratifiedKFold(n_splits=10, n_repeats=5, random_state=1)\n",
    "    # cv = RepeatedKFold(n_splits=10, n_repeats=5, random_state=1)\n",
    "    scores = cross_val_score(model, x, y, scoring='accuracy', cv=cv, n_jobs=-1, error_score='raise')\n",
    "    results[name] = scores\n",
    "    p ('>%s %.3f (%.3f)' % (name, mean(scores), std(scores)))"
   ]
  },
  {
   "cell_type": "markdown",
   "metadata": {},
   "source": [
    "### Include supplemental GOES data and use SmokeyNet Image Probabilities"
   ]
  },
  {
   "cell_type": "code",
   "execution_count": 81,
   "metadata": {},
   "outputs": [
    {
     "name": "stdout",
     "output_type": "stream",
     "text": [
      ">logistic 0.821 (0.009)\n",
      ">sgd_squared_hinge 0.823 (0.009)\n",
      ">sgd_hinge 0.819 (0.009)\n",
      ">svm 0.823 (0.009)\n",
      ">adaboost 0.814 (0.010)\n",
      ">k_nearest_7 0.795 (0.023)\n",
      ">k_nearest_5 0.795 (0.020)\n",
      ">k_nearest_10 0.801 (0.021)\n",
      ">xgboost 0.828 (0.010)\n",
      ">xgboost_tuned 0.824 (0.009)\n"
     ]
    }
   ],
   "source": [
    "#*********************** with image probability:\n",
    "extra_cols = [x for x in master_df.columns if \"WFABBA\" in x and \"timestamp_converted_rounded\" not in x and \"geometry\" not in x]\n",
    "# x = master_df[['smokeynet_pred', 'goes16_pred', 'goes17_pred'] + extra_cols]#.astype(int)\n",
    "x = master_df[['image_prob', 'goes16_pred', 'goes17_pred'] + extra_cols]#.astype(int)\n",
    "x = pd.get_dummies(x, columns=['WFABBA_GOES16_Code', 'WFABBA_GOES17_Code'])\n",
    "# p (x.WFABBA_GOES16_Code_10.value_counts())\n",
    "y = master_df['image_gt'].astype(int)\n",
    "\n",
    "models = {\n",
    "    'logistic': LogisticRegression(),\n",
    "    'sgd_squared_hinge': SGDClassifier(loss='squared_hinge', learning_rate='adaptive', eta0=0.0001),\n",
    "    'sgd_hinge': SGDClassifier(loss='hinge'),\n",
    "    'svm': svm.SVC(),\n",
    "    'adaboost': AdaBoostClassifier(learning_rate=0.0001),\n",
    "    'k_nearest_7': KNeighborsClassifier(n_neighbors=7),\n",
    "    'k_nearest_5': KNeighborsClassifier(n_neighbors=5),\n",
    "    'k_nearest_10': KNeighborsClassifier(n_neighbors=10),\n",
    "    'xgboost': XGBClassifier(use_label_encoder=False),\n",
    "    # 'xgboost_tuned': XGBClassifier(use_label_encoder=False, booster=\"gbtree\", eta=0.1, max_depth=8, subsample=0.7,\n",
    "    #                         tree_method=\"auto\", reg_lambda=1, grow_policy=\"depthwise\", gamma=0),\n",
    "    'xgboost_tuned': XGBClassifier(use_label_encoder=False, booster=\"gbtree\", eta=0.05, max_depth=8, subsample=0.5,\n",
    "                            tree_method=\"gpu_hist\", sampling_method=\"gradient_based\", reg_lambda=1, grow_policy=\"lossguide\", \n",
    "                            gamma=0, objective=\"reg:squaredlogerror\", eval_metric=\"rmsle\")\n",
    "}\n",
    "\n",
    "results = {}\n",
    "\n",
    "for name, model in models.items():\n",
    "    cv = RepeatedStratifiedKFold(n_splits=10, n_repeats=5, random_state=1)\n",
    "    # cv = RepeatedKFold(n_splits=10, n_repeats=5, random_state=1)\n",
    "    scores = cross_val_score(model, x, y, scoring='accuracy', cv=cv, n_jobs=-1, error_score='raise')\n",
    "    results[name] = scores\n",
    "    p ('>%s %.3f (%.3f)' % (name, mean(scores), std(scores)))"
   ]
  },
  {
   "cell_type": "code",
   "execution_count": null,
   "metadata": {},
   "outputs": [],
   "source": []
  },
  {
   "cell_type": "markdown",
   "metadata": {},
   "source": [
    "### Train/Val/Test Datasets should be split by fire!! As done below"
   ]
  },
  {
   "cell_type": "code",
   "execution_count": 29,
   "metadata": {},
   "outputs": [
    {
     "name": "stdout",
     "output_type": "stream",
     "text": [
      "Model: logistic, Mean Model: 0.7974014377496585, Mean Smokey: 0.8083817488111769\n",
      "Model: sgd_squared_hinge, Mean Model: 0.8017500040868523, Mean Smokey: 0.8099943255751776\n",
      "Model: sgd_hinge, Mean Model: 0.7952214664306463, Mean Smokey: 0.8069260445558198\n",
      "Model: svm, Mean Model: 0.7948010161514695, Mean Smokey: 0.8080906766094879\n",
      "Model: adaboost, Mean Model: 0.8093872722140234, Mean Smokey: 0.8086000404937113\n",
      "Model: adaboost_lr_0.00005, Mean Model: 0.8084946641931381, Mean Smokey: 0.8077969757696085\n",
      "Model: gradient_boost, Mean Model: 0.5069683350126876, Mean Smokey: 0.806847648216491\n",
      "Model: k_nearest_7, Mean Model: 0.7469720648917959, Mean Smokey: 0.807444424283775\n",
      "Model: k_nearest_5, Mean Model: 0.7469322509992712, Mean Smokey: 0.8091025336145815\n",
      "Model: k_nearest_10, Mean Model: 0.7558033943041397, Mean Smokey: 0.8081278873722825\n",
      "Model: xgboost, Mean Model: 0.8043434681710778, Mean Smokey: 0.8079128345968475\n",
      "Model: xgboost_tuned, Mean Model: 0.8120841870637036, Mean Smokey: 0.8081292061464835\n",
      "Model: lightgbm_gbdt, Mean Model: 0.8115821233931746, Mean Smokey: 0.8090385050071391\n"
     ]
    }
   ],
   "source": [
    "#*********************** with image probability:\n",
    "extra_cols = [x for x in master_df.columns if \"WFABBA\" in x and \"timestamp_converted_rounded\" not in x and \"geometry\" not in x]\n",
    "# x = master_df[['smokeynet_pred', 'goes16_pred', 'goes17_pred'] + extra_cols]#.astype(int)\n",
    "repetitions = 15\n",
    "\n",
    "xgb = []\n",
    "smokey = []\n",
    "\n",
    "models = {\n",
    "    'logistic': LogisticRegression(),\n",
    "    'sgd_squared_hinge': SGDClassifier(loss='squared_hinge', learning_rate='adaptive', eta0=0.0001),\n",
    "    'sgd_hinge': SGDClassifier(loss='hinge'),\n",
    "    'svm': svm.SVC(),\n",
    "    'adaboost': AdaBoostClassifier(learning_rate=0.0001),\n",
    "    'adaboost_lr_0.00005': AdaBoostClassifier(learning_rate=0.0001, n_estimators=100),\n",
    "    'gradient_boost': GradientBoostingClassifier(learning_rate=0.0001, n_estimators=100),\n",
    "    'k_nearest_7': KNeighborsClassifier(n_neighbors=7),\n",
    "    'k_nearest_5': KNeighborsClassifier(n_neighbors=5),\n",
    "    'k_nearest_10': KNeighborsClassifier(n_neighbors=10),\n",
    "    'xgboost': XGBClassifier(use_label_encoder=False),\n",
    "    'xgboost_tuned': XGBClassifier(use_label_encoder=False, booster=\"gbtree\", eta=0.01, max_depth=6, subsample=0.5,\n",
    "                            tree_method=\"gpu_hist\", sampling_method=\"gradient_based\", reg_lambda=1, \n",
    "                            gamma=0), #, objective=\"reg:squaredlogerror\", eval_metric=\"rmsle\", grow_policy=\"lossguide\"\n",
    "    'lightgbm_gbdt': lgb.LGBMClassifier(learning_rate=0.005,max_depth=-5,boosting_type='gbdt'),\n",
    "    # 'lightgbm_dart': lgb.LGBMClassifier(learning_rate=0.001,max_depth=-5,boosting_type='dart'),\n",
    "    # 'lightgbm_goss': lgb.LGBMClassifier(learning_rate=0.001,max_depth=-5,boosting_type='goss')\n",
    "}\n",
    "\n",
    "# model = lgb.LGBMClassifier(learning_rate=0.09,max_depth=-5,random_state=42)\n",
    "# model.fit(x_train,y_train,eval_set=[(x_test,y_test),(x_train,y_train)],\n",
    "#           verbose=20,eval_metric='logloss')\n",
    "\n",
    "from collections import defaultdict\n",
    "results = defaultdict(list)\n",
    "\n",
    "fires = master_df.event_name.unique()\n",
    "\n",
    "for name, model in models.items():\n",
    "    cv = RepeatedKFold(n_splits=10, n_repeats=5)\n",
    "    # cv = RepeatedKFold(n_splits=10, n_repeats=5, random_state=1)\n",
    "    for train_index, test_index in cv.split(fires):\n",
    "        train_df = master_df.loc[(master_df[\"event_name\"].isin(fires[train_index]))].reset_index(drop=True)\n",
    "        # train_df = df_combined.filter(lambda x: x if x[\"event_name\"] in train_fires)\n",
    "        test_df = master_df.loc[(master_df[\"event_name\"].isin(fires[test_index]))].reset_index(drop=True)\n",
    "\n",
    "        x_train = train_df[['image_prob', 'goes16_pred', 'goes17_pred'] + extra_cols]#.astype(int)\n",
    "        x_train = pd.get_dummies(x_train, columns=['WFABBA_GOES16_Code', 'WFABBA_GOES17_Code'])\n",
    "        x_test = test_df[['image_prob', 'goes16_pred', 'goes17_pred'] + extra_cols]#.astype(int)\n",
    "        x_test = pd.get_dummies(x_test, columns=['WFABBA_GOES16_Code', 'WFABBA_GOES17_Code'])\n",
    "        # p (x.WFABBA_GOES16_Code_10.value_counts())\n",
    "        y_train = train_df['image_gt'].astype(int)\n",
    "        y_test = test_df['image_gt'].astype(int)\n",
    "\n",
    "        model.fit(x_train, y_train)\n",
    "        y_pred = model.predict(x_test)\n",
    "        xgb_accuracy = accuracy_score(y_test, y_pred)\n",
    "        # p (f\"Accuracy XGB = {accuracy}\")\n",
    "        smokeynet_pred = x_test['image_prob'].apply(lambda x: 0 if x < 0.5 else 1).tolist()\n",
    "        smokey_accuracy = accuracy_score(y_test, smokeynet_pred)\n",
    "        # p (f\"Accuracy only smokey = {accuracy}\")\n",
    "        results[name].append((xgb_accuracy, smokey_accuracy))\n",
    "\n",
    "for name in models.keys():\n",
    "    # print (results[name])\n",
    "    print (f\"Model: {name}, Mean Model: {mean([x[0] for x in results[name]])}, Mean Smokey: {mean([x[1] for x in results[name]])}\")\n",
    "\n"
   ]
  },
  {
   "cell_type": "code",
   "execution_count": null,
   "metadata": {},
   "outputs": [],
   "source": []
  },
  {
   "cell_type": "code",
   "execution_count": null,
   "metadata": {},
   "outputs": [],
   "source": []
  },
  {
   "cell_type": "code",
   "execution_count": null,
   "metadata": {},
   "outputs": [],
   "source": []
  },
  {
   "cell_type": "markdown",
   "metadata": {},
   "source": [
    "## EDA to compute counts for different combinations of the predictions (to eyeball model performance)"
   ]
  },
  {
   "cell_type": "markdown",
   "metadata": {},
   "source": [
    "#### Each bit represents <image_gt, smokeynet, goes16, goes17>"
   ]
  },
  {
   "cell_type": "code",
   "execution_count": 15,
   "metadata": {},
   "outputs": [
    {
     "name": "stdout",
     "output_type": "stream",
     "text": [
      "0000 3674\n",
      "0001 448\n",
      "0010 68\n",
      "0011 424\n",
      "0100 330\n",
      "0101 106\n",
      "0110 0\n",
      "0111 2\n",
      "1000 1134\n",
      "1001 172\n",
      "1010 122\n",
      "1011 168\n",
      "1100 1686\n",
      "1101 628\n",
      "1110 50\n",
      "1111 1258\n"
     ]
    }
   ],
   "source": [
    "p (\"0000\", master_df.loc[(master_df.image_gt == 0) & (master_df.smokeynet_pred == 0) & (master_df.goes16_pred == 0) & (master_df.goes17_pred == 0)].shape[0])\n",
    "p (\"0001\", master_df.loc[(master_df.image_gt == 0) & (master_df.smokeynet_pred == 0) & (master_df.goes16_pred == 0) & (master_df.goes17_pred == 1)].shape[0])\n",
    "p (\"0010\", master_df.loc[(master_df.image_gt == 0) & (master_df.smokeynet_pred == 0) & (master_df.goes16_pred == 1) & (master_df.goes17_pred == 0)].shape[0])\n",
    "p (\"0011\", master_df.loc[(master_df.image_gt == 0) & (master_df.smokeynet_pred == 0) & (master_df.goes16_pred == 1) & (master_df.goes17_pred == 1)].shape[0])\n",
    "p (\"0100\", master_df.loc[(master_df.image_gt == 0) & (master_df.smokeynet_pred == 1) & (master_df.goes16_pred == 0) & (master_df.goes17_pred == 0)].shape[0])\n",
    "p (\"0101\", master_df.loc[(master_df.image_gt == 0) & (master_df.smokeynet_pred == 1) & (master_df.goes16_pred == 0) & (master_df.goes17_pred == 1)].shape[0])\n",
    "p (\"0110\", master_df.loc[(master_df.image_gt == 0) & (master_df.smokeynet_pred == 1) & (master_df.goes16_pred == 1) & (master_df.goes17_pred == 0)].shape[0])\n",
    "p (\"0111\", master_df.loc[(master_df.image_gt == 0) & (master_df.smokeynet_pred == 1) & (master_df.goes16_pred == 1) & (master_df.goes17_pred == 1)].shape[0])\n",
    "p (\"1000\", master_df.loc[(master_df.image_gt == 1) & (master_df.smokeynet_pred == 0) & (master_df.goes16_pred == 0) & (master_df.goes17_pred == 0)].shape[0])\n",
    "p (\"1001\", master_df.loc[(master_df.image_gt == 1) & (master_df.smokeynet_pred == 0) & (master_df.goes16_pred == 0) & (master_df.goes17_pred == 1)].shape[0])\n",
    "p (\"1010\", master_df.loc[(master_df.image_gt == 1) & (master_df.smokeynet_pred == 0) & (master_df.goes16_pred == 1) & (master_df.goes17_pred == 0)].shape[0])\n",
    "p (\"1011\", master_df.loc[(master_df.image_gt == 1) & (master_df.smokeynet_pred == 0) & (master_df.goes16_pred == 1) & (master_df.goes17_pred == 1)].shape[0])\n",
    "p (\"1100\", master_df.loc[(master_df.image_gt == 1) & (master_df.smokeynet_pred == 1) & (master_df.goes16_pred == 0) & (master_df.goes17_pred == 0)].shape[0])\n",
    "p (\"1101\", master_df.loc[(master_df.image_gt == 1) & (master_df.smokeynet_pred == 1) & (master_df.goes16_pred == 0) & (master_df.goes17_pred == 1)].shape[0])\n",
    "p (\"1110\", master_df.loc[(master_df.image_gt == 1) & (master_df.smokeynet_pred == 1) & (master_df.goes16_pred == 1) & (master_df.goes17_pred == 0)].shape[0])\n",
    "p (\"1111\", master_df.loc[(master_df.image_gt == 1) & (master_df.smokeynet_pred == 1) & (master_df.goes16_pred == 1) & (master_df.goes17_pred == 1)].shape[0])\n",
    "# gt, smokey, 16, 17 ### 10270"
   ]
  },
  {
   "cell_type": "markdown",
   "metadata": {},
   "source": [
    "#### Each bit represents <image_gt, smokeynet, goes16 OR goes17>"
   ]
  },
  {
   "cell_type": "code",
   "execution_count": 10,
   "metadata": {},
   "outputs": [
    {
     "name": "stdout",
     "output_type": "stream",
     "text": [
      "000 4190\n",
      "001 940\n",
      "010 436\n",
      "011 108\n",
      "100 1428\n",
      "101 462\n",
      "110 2364\n",
      "111 1936\n"
     ]
    }
   ],
   "source": [
    "p (\"000\", master_df.loc[(master_df.image_gt == 0) & (master_df.smokeynet_pred == 0) & ((master_df.goes16_pred == 0) | (master_df.goes17_pred == 0))].shape[0])\n",
    "p (\"001\", master_df.loc[(master_df.image_gt == 0) & (master_df.smokeynet_pred == 0) & ((master_df.goes16_pred == 1) | (master_df.goes17_pred == 1))].shape[0])\n",
    "p (\"010\", master_df.loc[(master_df.image_gt == 0) & (master_df.smokeynet_pred == 1) & ((master_df.goes16_pred == 0) | (master_df.goes17_pred == 0))].shape[0])\n",
    "p (\"011\", master_df.loc[(master_df.image_gt == 0) & (master_df.smokeynet_pred == 1) & ((master_df.goes16_pred == 1) | (master_df.goes17_pred == 1))].shape[0])\n",
    "p (\"100\", master_df.loc[(master_df.image_gt == 1) & (master_df.smokeynet_pred == 0) & ((master_df.goes16_pred == 0) | (master_df.goes17_pred == 0))].shape[0])\n",
    "p (\"101\", master_df.loc[(master_df.image_gt == 1) & (master_df.smokeynet_pred == 0) & ((master_df.goes16_pred == 1) | (master_df.goes17_pred == 1))].shape[0])\n",
    "p (\"110\", master_df.loc[(master_df.image_gt == 1) & (master_df.smokeynet_pred == 1) & ((master_df.goes16_pred == 0) | (master_df.goes17_pred == 0))].shape[0])\n",
    "p (\"111\", master_df.loc[(master_df.image_gt == 1) & (master_df.smokeynet_pred == 1) & ((master_df.goes16_pred == 1) | (master_df.goes17_pred == 1))].shape[0])\n",
    "# gt, smokey, 16, 17 ### 10270"
   ]
  }
 ],
 "metadata": {
  "kernelspec": {
   "display_name": "Python 3.8.8 ('smokey_gpu')",
   "language": "python",
   "name": "python3"
  },
  "language_info": {
   "codemirror_mode": {
    "name": "ipython",
    "version": 3
   },
   "file_extension": ".py",
   "mimetype": "text/x-python",
   "name": "python",
   "nbconvert_exporter": "python",
   "pygments_lexer": "ipython3",
   "version": "3.8.8"
  },
  "orig_nbformat": 4,
  "vscode": {
   "interpreter": {
    "hash": "d07f9fb20341f4a563fd750781cc541022ce28d03ce04a073d864a548cee3322"
   }
  }
 },
 "nbformat": 4,
 "nbformat_minor": 2
}

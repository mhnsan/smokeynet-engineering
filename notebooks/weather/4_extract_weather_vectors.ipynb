{
 "cells": [
  {
   "cell_type": "code",
   "execution_count": 1,
   "id": "7eb59128",
   "metadata": {},
   "outputs": [],
   "source": [
    "import pandas as pd\n",
    "import numpy as np\n",
    "import datetime"
   ]
  },
  {
   "cell_type": "markdown",
   "id": "711f14f5",
   "metadata": {},
   "source": [
    "### Step 1 : Get the training, test, validation image name lists and sort them by the camera name"
   ]
  },
  {
   "cell_type": "code",
   "execution_count": 2,
   "id": "a5f8e9b7",
   "metadata": {},
   "outputs": [],
   "source": [
    "DATA_DIR = '../../data/processed/weather_vectors/'\n",
    "WEATHER_DIR = '../../data/processed/by_camera_summary/'  # Directory with the weather data csv files for each camera.\n",
    "\n",
    "# Path to the text files with the train, test, validation splits\n",
    "TRAIN_SPLIT_PATH = DATA_DIR + 'train_images.txt'\n",
    "VAL_SPLIT_PATH = DATA_DIR + 'val_images.txt'\n",
    "TEST_SPLIT_PATH = DATA_DIR + 'test_images.txt'"
   ]
  },
  {
   "cell_type": "code",
   "execution_count": 3,
   "id": "4cb64a5a",
   "metadata": {},
   "outputs": [],
   "source": [
    "with open(TRAIN_SPLIT_PATH) as f:\n",
    "    lines = f.read()\n",
    "    train_images = lines.split('\\n')\n",
    "    train_images = [i for i in train_images if i]\n",
    "    train_images = sorted(train_images, key = lambda x: x.split('_')[-2])\n",
    "\n",
    "with open(VAL_SPLIT_PATH) as f:\n",
    "    lines = f.read()\n",
    "    val_images = lines.split('\\n')\n",
    "    val_images = [i for i in val_images if i]\n",
    "    val_images = sorted(val_images, key = lambda x: x.split('_')[-2])\n",
    "\n",
    "with open(TEST_SPLIT_PATH) as f:\n",
    "    lines = f.read()\n",
    "    test_images = lines.split('\\n')\n",
    "    test_images = [i for i in test_images if i]\n",
    "    test_images = sorted(test_images, key = lambda x: x.split('_')[-2])"
   ]
  },
  {
   "cell_type": "markdown",
   "id": "e0f21a3d",
   "metadata": {},
   "source": [
    "### Step 2 : Get the weather vector corresponding to each image in the training, validation and test image lists\n",
    "There is aggregated weather data available per camera. In order to efficiently get the weather data for our image name list, the following steps are done:\n",
    "- Sort the image name lists based on the camera names to group fires from same camera but different dates together. This will minimize the number of times in which the csv files with the weather data is opened\n",
    "- Since the lists are sorted, the lists are parsed from start to end and the weather data dataframes are loaded only when there is a change in the camera names. This gives us a dataframe with the historical weather data for the corresponding camera\n",
    "- Each time we load a csv file with the weather data, we also create a new timestamp column which stores the timestamp in the UTC timestamp format. \n",
    "- For each image name, extract the timestamp and query the dataframe for the closest timestamp. This gives the weather data for the image. This is then written to a file\n",
    "- For the wind direction, the angle is adjusted to be relative to the direction in which the camera is pointing\n"
   ]
  },
  {
   "cell_type": "code",
   "execution_count": 4,
   "id": "054abc36",
   "metadata": {},
   "outputs": [],
   "source": [
    "def extract_camera_name(image_name):\n",
    "    directory_name = image_name.split('/')[0]\n",
    "    camera_name = directory_name.split('_')[-1]\n",
    "    if camera_name[:5] == 'FIRE-':\n",
    "        camera_name = camera_name[5:]\n",
    "    return camera_name\n",
    "\n",
    "def extract_timestamp(image_name):\n",
    "    timestamp = image_name.split('/')[-1]\n",
    "    timestamp = int(timestamp.split('_')[0])\n",
    "    return timestamp\n",
    "\n",
    "def get_timestamp(date_string):\n",
    "    date = datetime.datetime.strptime(date_string, \"%Y-%m-%d %H:%M:%S\")\n",
    "    timestamp = datetime.datetime.timestamp(date)\n",
    "    return timestamp\n",
    "\n",
    "def wind_direction_offset(camera_name, angle):\n",
    "    direction = camera_name.split('-')[1]\n",
    "    \n",
    "    offset_dict = {'n':0, 'e':90, 's':180, 'w': 270}\n",
    "    try:\n",
    "        angle = (angle - offset_dict[direction] +360)%360\n",
    "    except:\n",
    "        pass\n",
    "    return angle\n",
    "    "
   ]
  },
  {
   "cell_type": "code",
   "execution_count": 5,
   "id": "59ee6de2",
   "metadata": {},
   "outputs": [],
   "source": [
    "def get_weather_data_from_image(output_path, image_list, weather_dir, cameras_without_weather=[]):\n",
    "    with open(output_path, 'w') as f:\n",
    "        prev_camera_name = 'XXX'\n",
    "        f.write('image_name,air_temp_set_1,relative_humidity_set_1,wind_speed_set_1,'+\n",
    "                'wind_gust_set_1,wind_direction_set_1,dew_point_temperature_set_1d,u,v,\\n')\n",
    "        for image in image_list:\n",
    "            camera_name = extract_camera_name(image)\n",
    "            timestamp = extract_timestamp(image)\n",
    "            st_id = camera_name\n",
    "            temp = 0\n",
    "            hum = 0\n",
    "            wind_speed = 0\n",
    "            gust = 0\n",
    "            direction = 0\n",
    "            dew_temp = 0\n",
    "            u= 0 \n",
    "            v = 0\n",
    "            if camera_name not in cameras_without_weather:\n",
    "                if camera_name != prev_camera_name:\n",
    "                    try:\n",
    "                        df = pd.read_csv(WEATHER_DIR+camera_name+'.csv')\n",
    "                    except:\n",
    "                        try:\n",
    "                            df = pd.read_csv(WEATHER_DIR+camera_name+'-c.csv')\n",
    "                        except:\n",
    "                            pass\n",
    "                    prev_camera_name = camera_name\n",
    "                    try:\n",
    "                        df['Date_Time'] = df['Date_Time'].apply(lambda x: x[:-6])\n",
    "                    \n",
    "                        df['Timestamp'] = df['Date_Time'].apply(get_timestamp)\n",
    "                    except:\n",
    "                        print(camera_name)\n",
    "                filtered_df = df[(df['Timestamp'] <= timestamp) &(df['Timestamp'] > (timestamp-7199))]          \n",
    "\n",
    "                if(filtered_df.shape[0] >=1):\n",
    "                    filtered_df = filtered_df.iloc[[-1]]\n",
    "\n",
    "                for index, row in filtered_df.iterrows():\n",
    "                    temp = row['air_temp_set_1']\n",
    "                    hum = row['relative_humidity_set_1']\n",
    "                    wind_speed = row['wind_speed_set_1']\n",
    "                    gust = row['wind_gust_set_1']\n",
    "                    direction = wind_direction_offset(camera_name, row['wind_direction_set_1'])\n",
    "                    dew_temp = row['dew_point_temperature_set_1d']\n",
    "                    u = row['u']\n",
    "                    v = row['v']\n",
    "\n",
    "            f.write(image+','+str(temp)+','+str(hum)+','+str(wind_speed)+','+str(gust)+','+str(direction)+','+str(dew_temp)\\\n",
    "                   +','+str(u)+','+str(v)+'\\n')"
   ]
  },
  {
   "cell_type": "code",
   "execution_count": 6,
   "id": "948c9150",
   "metadata": {},
   "outputs": [],
   "source": [
    "get_weather_data_from_image(DATA_DIR+'weather_vectors_train.csv', train_images, WEATHER_DIR)\n",
    "get_weather_data_from_image(DATA_DIR+'weather_vectors_val.csv', val_images, WEATHER_DIR)\n",
    "get_weather_data_from_image(DATA_DIR+'weather_vectors_test.csv', test_images, WEATHER_DIR)"
   ]
  }
 ],
 "metadata": {
  "kernelspec": {
   "display_name": "Python 3 (ipykernel)",
   "language": "python",
   "name": "python3"
  },
  "language_info": {
   "codemirror_mode": {
    "name": "ipython",
    "version": 3
   },
   "file_extension": ".py",
   "mimetype": "text/x-python",
   "name": "python",
   "nbconvert_exporter": "python",
   "pygments_lexer": "ipython3",
   "version": "3.9.12"
  }
 },
 "nbformat": 4,
 "nbformat_minor": 5
}

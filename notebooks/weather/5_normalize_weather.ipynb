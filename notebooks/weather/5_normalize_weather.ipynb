{
 "cells": [
  {
   "cell_type": "markdown",
   "id": "0943e232-69e8-45a5-addd-380dcbe745fe",
   "metadata": {},
   "source": [
    "### Normalize the Weather Vectors\n",
    "- Remove the vectors without any weather data (the zero vectors)\n",
    "- Get the mean and standard deviation of each column in the training weather vectors.\n",
    "- Normalize the train, valid and test weather vectors with the above mean and std deviation"
   ]
  },
  {
   "cell_type": "code",
   "execution_count": 1,
   "id": "0a306efd-c12a-45c9-9423-a26bc42ab5bd",
   "metadata": {},
   "outputs": [],
   "source": [
    "import pandas as pd"
   ]
  },
  {
   "cell_type": "code",
   "execution_count": 2,
   "id": "99e984e9-90c2-4a6b-a59f-ac5df60b0a5d",
   "metadata": {},
   "outputs": [],
   "source": [
    "DATA_DIR = '../../data/processed/weather_vectors/'\n",
    "\n",
    "fires_without_weather = ['20170713_FIRE_smer-tcs8-mobo-c','20171026_FIRE_smer-tcs8-mobo-c','20171207_FIRE_smer-tcs8-mobo-c',\n",
    "'20180504_FIRE_smer-tcs8-mobo-c','20180602_FIRE_smer-tcs8-mobo-c','20180603_FIRE_smer-tcs8-mobo-c',\n",
    "'20180910_FIRE_smer-tcs8-mobo-c','20170927_FIRE_smer-tcs9-mobo-c','20180725_Cranston_sp-e-mobo-c',\n",
    "'20190805_FIRE_sp-e-mobo-c','20180719_Skyline_sp-n-mobo-c','20190728_FIRE_sp-n-mobo-c',\n",
    "'20190805_FIRE_sp-e-mobo-c','20180719_Skyline_sp-n-mobo-c','20190728_FIRE_sp-n-mobo-c',\n",
    "'20170708_Whittier_syp-n-mobo-c','20180720_FIRE_syp-w-mobo-c','20180718_FIRE_syp-w-mobo-c']\n"
   ]
  },
  {
   "cell_type": "code",
   "execution_count": 4,
   "id": "9049e414-37f8-4e35-a547-e5631dbb6850",
   "metadata": {},
   "outputs": [],
   "source": [
    "weather_df = pd.read_csv(DATA_DIR+'weather_vectors_train.csv', index_col=False)\n",
    "weather_df['fire_name'] = weather_df['image_name'].apply(lambda x: x.split('/')[0])\n",
    "weather_df_no_data = weather_df[weather_df['fire_name'].isin(fires_without_weather)]\n",
    "weather_df = weather_df[~weather_df['fire_name'].isin(fires_without_weather)]\n",
    "\n",
    "filtered_train_image_names = weather_df['image_name']\n",
    "\n",
    "# columns = ['air_temp_set_1','dew_point_temperature_set_1d','relative_humidity_set_1','u','v',\n",
    "#         'wind_direction_set_1','wind_gust_set_1','wind_speed_set_1']\n",
    "\n",
    "columns = ['u','v','wind_direction_set_1']\n",
    "\n",
    "means = []\n",
    "st_devs = []\n",
    "\n",
    "for col in columns:\n",
    "    means.append(weather_df[col].mean())\n",
    "    st_devs.append(weather_df[col].std(ddof=0))\n",
    "    weather_df[col] = (weather_df[col] - means[-1])/st_devs[-1]"
   ]
  },
  {
   "cell_type": "code",
   "execution_count": 5,
   "id": "995dae30-063d-4b81-9099-58a67e97b7e9",
   "metadata": {},
   "outputs": [],
   "source": [
    "weather_df_val = pd.read_csv(DATA_DIR+'weather_vectors_val.csv', index_col=False)\n",
    "weather_df_val['fire_name'] = weather_df_val['image_name'].apply(lambda x: x.split('/')[0])\n",
    "weather_df_test = pd.read_csv(DATA_DIR+'weather_vectors_test.csv',index_col=False)\n",
    "weather_df_test['fire_name'] = weather_df_test['image_name'].apply(lambda x: x.split('/')[0])\n",
    "\n",
    "weather_df_val_no_data = weather_df_val[weather_df_val['fire_name'].isin(fires_without_weather)]\n",
    "weather_df_val = weather_df_val[~weather_df_val['fire_name'].isin(fires_without_weather)]\n",
    "\n",
    "weather_df_test_no_data = weather_df_test[weather_df_test['fire_name'].isin(fires_without_weather)]\n",
    "weather_df_test = weather_df_test[~weather_df_test['fire_name'].isin(fires_without_weather)]\n",
    "\n",
    "filtered_val_image_names = weather_df_val['image_name']\n",
    "filtered_test_image_names = weather_df_test['image_name']\n",
    "\n",
    "for i, col in enumerate(columns):\n",
    "    weather_df_val[col] = (weather_df_val[col] - means[i])/st_devs[i]\n",
    "    weather_df_test[col] = (weather_df_test[col] - means[i])/st_devs[i]"
   ]
  },
  {
   "cell_type": "code",
   "execution_count": 6,
   "id": "d96cbf8e-be6f-40d1-90ed-3cd47067927f",
   "metadata": {},
   "outputs": [
    {
     "name": "stderr",
     "output_type": "stream",
     "text": [
      "/tmp/ipykernel_938/2877306325.py:1: FutureWarning: The frame.append method is deprecated and will be removed from pandas in a future version. Use pandas.concat instead.\n",
      "  weather_df = weather_df.append(weather_df_val, ignore_index=True)\n",
      "/tmp/ipykernel_938/2877306325.py:2: FutureWarning: The frame.append method is deprecated and will be removed from pandas in a future version. Use pandas.concat instead.\n",
      "  weather_df = weather_df.append(weather_df_test, ignore_index=True)\n"
     ]
    }
   ],
   "source": [
    "weather_df = weather_df.append(weather_df_val, ignore_index=True)\n",
    "weather_df = weather_df.append(weather_df_test, ignore_index=True)\n",
    "weather_df.drop(columns=['fire_name','Unnamed: 9'], inplace=True)\n",
    "weather_df.to_csv(DATA_DIR+'weather_vectors_normalized.csv', index=False)"
   ]
  },
  {
   "cell_type": "code",
   "execution_count": 7,
   "id": "e76c6fee-06ba-4cdd-9624-6e059d0ab3ca",
   "metadata": {},
   "outputs": [],
   "source": [
    "filtered_train_image_names.to_csv(DATA_DIR+'filtered_train_images.txt', header=None, index=None, sep=' ')\n",
    "filtered_val_image_names.to_csv(DATA_DIR+'filtered_val_images.txt', header=None, index=None, sep=' ')\n",
    "filtered_test_image_names.to_csv(DATA_DIR+'filtered_test_images.txt', header=None, index=None, sep=' ')"
   ]
  },
  {
   "cell_type": "code",
   "execution_count": null,
   "id": "4f9050e5-d5c7-4029-9419-da0e811825c6",
   "metadata": {},
   "outputs": [],
   "source": []
  }
 ],
 "metadata": {
  "kernelspec": {
   "display_name": "Python 3 (ipykernel)",
   "language": "python",
   "name": "python3"
  },
  "language_info": {
   "codemirror_mode": {
    "name": "ipython",
    "version": 3
   },
   "file_extension": ".py",
   "mimetype": "text/x-python",
   "name": "python",
   "nbconvert_exporter": "python",
   "pygments_lexer": "ipython3",
   "version": "3.9.12"
  }
 },
 "nbformat": 4,
 "nbformat_minor": 5
}
